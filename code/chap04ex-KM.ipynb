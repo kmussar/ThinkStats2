{
 "cells": [
  {
   "cell_type": "markdown",
   "metadata": {},
   "source": [
    "# Examples and Exercises from Think Stats, 2nd Edition\n",
    "\n",
    "http://thinkstats2.com\n",
    "\n",
    "Copyright 2016 Allen B. Downey\n",
    "\n",
    "MIT License: https://opensource.org/licenses/MIT\n"
   ]
  },
  {
   "cell_type": "code",
   "execution_count": 6,
   "metadata": {},
   "outputs": [],
   "source": [
    "from __future__ import print_function, division\n",
    "\n",
    "%matplotlib inline\n",
    "\n",
    "import numpy as np\n",
    "\n",
    "import nsfg\n",
    "import first\n",
    "import thinkstats2\n",
    "import thinkplot"
   ]
  },
  {
   "cell_type": "markdown",
   "metadata": {},
   "source": [
    "## Examples\n",
    "\n",
    "One more time, I'll load the data from the NSFG."
   ]
  },
  {
   "cell_type": "code",
   "execution_count": 7,
   "metadata": {},
   "outputs": [],
   "source": [
    "live, firsts, others = first.MakeFrames()"
   ]
  },
  {
   "cell_type": "markdown",
   "metadata": {},
   "source": [
    "And compute the distribution of birth weight for first babies and others."
   ]
  },
  {
   "cell_type": "code",
   "execution_count": 8,
   "metadata": {},
   "outputs": [
    {
     "name": "stdout",
     "output_type": "stream",
     "text": [
      "Firsts 4413 4363\n",
      "Others 4735 4675\n"
     ]
    }
   ],
   "source": [
    "first_wgt = firsts.totalwgt_lb\n",
    "first_wgt_dropna = first_wgt.dropna()\n",
    "print('Firsts', len(first_wgt), len(first_wgt_dropna))\n",
    " \n",
    "other_wgt = others.totalwgt_lb\n",
    "other_wgt_dropna = other_wgt.dropna()\n",
    "print('Others', len(other_wgt), len(other_wgt_dropna))\n",
    "\n",
    "first_pmf = thinkstats2.Pmf(first_wgt_dropna, label='first')\n",
    "other_pmf = thinkstats2.Pmf(other_wgt_dropna, label='other')"
   ]
  },
  {
   "cell_type": "markdown",
   "metadata": {},
   "source": [
    "We can plot the PMFs on the same scale, but it is hard to see if there is a difference."
   ]
  },
  {
   "cell_type": "code",
   "execution_count": 9,
   "metadata": {},
   "outputs": [
    {
     "data": {
      "image/png": "[encoded data removed]",
      "text/plain": [
       "<Figure size 432x288 with 1 Axes>"
      ]
     },
     "metadata": {
      "needs_background": "light"
     },
     "output_type": "display_data"
    }
   ],
   "source": [
    "width = 0.4 / 16\n",
    "\n",
    "# plot PMFs of birth weights for first babies and others\n",
    "thinkplot.PrePlot(2)\n",
    "thinkplot.Hist(first_pmf, align='right', width=width)\n",
    "thinkplot.Hist(other_pmf, align='left', width=width)\n",
    "thinkplot.Config(xlabel='Weight (pounds)', ylabel='PMF')"
   ]
  },
  {
   "cell_type": "markdown",
   "metadata": {},
   "source": [
    "`PercentileRank` computes the fraction of `scores` less than or equal to `your_score`."
   ]
  },
  {
   "cell_type": "code",
   "execution_count": 10,
   "metadata": {},
   "outputs": [],
   "source": [
    "def PercentileRank(scores, your_score):\n",
    "    count = 0\n",
    "    for score in scores:\n",
    "        if score <= your_score:\n",
    "            count += 1\n",
    "\n",
    "    percentile_rank = 100.0 * count / len(scores)\n",
    "    return percentile_rank"
   ]
  },
  {
   "cell_type": "markdown",
   "metadata": {},
   "source": [
    "If this is the list of scores."
   ]
  },
  {
   "cell_type": "code",
   "execution_count": 11,
   "metadata": {},
   "outputs": [],
   "source": [
    "t = [55, 66, 77, 88, 99]"
   ]
  },
  {
   "cell_type": "markdown",
   "metadata": {},
   "source": [
    "And you got the 88, your percentile rank is 80."
   ]
  },
  {
   "cell_type": "code",
   "execution_count": 12,
   "metadata": {},
   "outputs": [
    {
     "data": {
      "text/plain": [
       "80.0"
      ]
     },
     "execution_count": 12,
     "metadata": {},
     "output_type": "execute_result"
    }
   ],
   "source": [
    "PercentileRank(t, 88)"
   ]
  },
  {
   "cell_type": "markdown",
   "metadata": {},
   "source": [
    "`Percentile` takes a percentile rank and computes the corresponding percentile. "
   ]
  },
  {
   "cell_type": "code",
   "execution_count": 13,
   "metadata": {},
   "outputs": [],
   "source": [
    "def Percentile(scores, percentile_rank):\n",
    "    scores.sort()\n",
    "    for score in scores:\n",
    "        if PercentileRank(scores, score) >= percentile_rank:\n",
    "            return score"
   ]
  },
  {
   "cell_type": "markdown",
   "metadata": {},
   "source": [
    "The median is the 50th percentile, which is 77."
   ]
  },
  {
   "cell_type": "code",
   "execution_count": 14,
   "metadata": {},
   "outputs": [
    {
     "data": {
      "text/plain": [
       "77"
      ]
     },
     "execution_count": 14,
     "metadata": {},
     "output_type": "execute_result"
    }
   ],
   "source": [
    "Percentile(t, 50)"
   ]
  },
  {
   "cell_type": "markdown",
   "metadata": {},
   "source": [
    "Here's a more efficient way to compute percentiles."
   ]
  },
  {
   "cell_type": "code",
   "execution_count": 15,
   "metadata": {},
   "outputs": [],
   "source": [
    "def Percentile2(scores, percentile_rank):\n",
    "    scores.sort()\n",
    "    index = percentile_rank * (len(scores)-1) // 100\n",
    "    return scores[index]"
   ]
  },
  {
   "cell_type": "markdown",
   "metadata": {},
   "source": [
    "Let's hope we get the same answer."
   ]
  },
  {
   "cell_type": "code",
   "execution_count": 16,
   "metadata": {},
   "outputs": [
    {
     "data": {
      "text/plain": [
       "77"
      ]
     },
     "execution_count": 16,
     "metadata": {},
     "output_type": "execute_result"
    }
   ],
   "source": [
    "Percentile2(t, 50)"
   ]
  },
  {
   "cell_type": "markdown",
   "metadata": {},
   "source": [
    "The Cumulative Distribution Function (CDF) is almost the same as `PercentileRank`.  The only difference is that the result is 0-1 instead of 0-100."
   ]
  },
  {
   "cell_type": "code",
   "execution_count": 17,
   "metadata": {},
   "outputs": [],
   "source": [
    "def EvalCdf(sample, x):\n",
    "    count = 0.0\n",
    "    for value in sample:\n",
    "        if value <= x:\n",
    "            count += 1\n",
    "\n",
    "    prob = count / len(sample)\n",
    "    return prob"
   ]
  },
  {
   "cell_type": "markdown",
   "metadata": {},
   "source": [
    "In this list"
   ]
  },
  {
   "cell_type": "code",
   "execution_count": 18,
   "metadata": {},
   "outputs": [],
   "source": [
    "t = [1, 2, 2, 3, 5]"
   ]
  },
  {
   "cell_type": "markdown",
   "metadata": {},
   "source": [
    "We can evaluate the CDF for various values:"
   ]
  },
  {
   "cell_type": "code",
   "execution_count": 19,
   "metadata": {},
   "outputs": [
    {
     "data": {
      "text/plain": [
       "(0.0, 0.2, 0.6, 0.8, 0.8, 1.0)"
      ]
     },
     "execution_count": 19,
     "metadata": {},
     "output_type": "execute_result"
    }
   ],
   "source": [
    "EvalCdf(t, 0), EvalCdf(t, 1), EvalCdf(t, 2), EvalCdf(t, 3), EvalCdf(t, 4), EvalCdf(t, 5)"
   ]
  },
  {
   "cell_type": "markdown",
   "metadata": {},
   "source": [
    "Here's an example using real data, the distribution of pregnancy length for live births."
   ]
  },
  {
   "cell_type": "code",
   "execution_count": 20,
   "metadata": {},
   "outputs": [
    {
     "data": {
      "image/png": "[encoded data removed]",
      "text/plain": [
       "<Figure size 432x288 with 1 Axes>"
      ]
     },
     "metadata": {
      "needs_background": "light"
     },
     "output_type": "display_data"
    }
   ],
   "source": [
    "cdf = thinkstats2.Cdf(live.prglngth, label='prglngth')\n",
    "thinkplot.Cdf(cdf)\n",
    "thinkplot.Config(xlabel='Pregnancy length (weeks)', ylabel='CDF', loc='upper left')"
   ]
  },
  {
   "cell_type": "markdown",
   "metadata": {},
   "source": [
    "`Cdf` provides `Prob`, which evaluates the CDF; that is, it computes the fraction of values less than or equal to the given value.  For example, 94% of pregnancy lengths are less than or equal to 41."
   ]
  },
  {
   "cell_type": "code",
   "execution_count": 21,
   "metadata": {},
   "outputs": [
    {
     "data": {
      "text/plain": [
       "0.9406427634455619"
      ]
     },
     "execution_count": 21,
     "metadata": {},
     "output_type": "execute_result"
    }
   ],
   "source": [
    "cdf.Prob(41)"
   ]
  },
  {
   "cell_type": "markdown",
   "metadata": {
    "collapsed": true
   },
   "source": [
    "`Value` evaluates the inverse CDF; given a fraction, it computes the corresponding value.  For example, the median is the value that corresponds to 0.5."
   ]
  },
  {
   "cell_type": "code",
   "execution_count": 22,
   "metadata": {},
   "outputs": [
    {
     "data": {
      "text/plain": [
       "39"
      ]
     },
     "execution_count": 22,
     "metadata": {},
     "output_type": "execute_result"
    }
   ],
   "source": [
    "cdf.Value(0.5)"
   ]
  },
  {
   "cell_type": "markdown",
   "metadata": {},
   "source": [
    "In general, CDFs are a good way to visualize distributions.  They are not as noisy as PMFs, and if you plot several CDFs on the same axes, any differences between them are apparent."
   ]
  },
  {
   "cell_type": "code",
   "execution_count": 23,
   "metadata": {},
   "outputs": [
    {
     "data": {
      "image/png": "[encoded data removed]",
      "text/plain": [
       "<Figure size 432x288 with 1 Axes>"
      ]
     },
     "metadata": {
      "needs_background": "light"
     },
     "output_type": "display_data"
    }
   ],
   "source": [
    "first_cdf = thinkstats2.Cdf(firsts.totalwgt_lb, label='first')\n",
    "other_cdf = thinkstats2.Cdf(others.totalwgt_lb, label='other')\n",
    "\n",
    "thinkplot.PrePlot(2)\n",
    "thinkplot.Cdfs([first_cdf, other_cdf])\n",
    "thinkplot.Config(xlabel='Weight (pounds)', ylabel='CDF')"
   ]
  },
  {
   "cell_type": "markdown",
   "metadata": {},
   "source": [
    "In this example, we can see that first babies are slightly, but consistently, lighter than others.\n",
    "\n",
    "We can use the CDF of birth weight to compute percentile-based statistics."
   ]
  },
  {
   "cell_type": "code",
   "execution_count": 24,
   "metadata": {},
   "outputs": [],
   "source": [
    "weights = live.totalwgt_lb\n",
    "live_cdf = thinkstats2.Cdf(weights, label='live')"
   ]
  },
  {
   "cell_type": "markdown",
   "metadata": {},
   "source": [
    "Again, the median is the 50th percentile."
   ]
  },
  {
   "cell_type": "code",
   "execution_count": 25,
   "metadata": {},
   "outputs": [
    {
     "data": {
      "text/plain": [
       "7.375"
      ]
     },
     "execution_count": 25,
     "metadata": {},
     "output_type": "execute_result"
    }
   ],
   "source": [
    "median = live_cdf.Percentile(50)\n",
    "median"
   ]
  },
  {
   "cell_type": "markdown",
   "metadata": {},
   "source": [
    "The interquartile range is the interval from the 25th to 75th percentile."
   ]
  },
  {
   "cell_type": "code",
   "execution_count": 26,
   "metadata": {},
   "outputs": [
    {
     "data": {
      "text/plain": [
       "(6.5, 8.125)"
      ]
     },
     "execution_count": 26,
     "metadata": {},
     "output_type": "execute_result"
    }
   ],
   "source": [
    "iqr = (live_cdf.Percentile(25), live_cdf.Percentile(75))\n",
    "iqr"
   ]
  },
  {
   "cell_type": "markdown",
   "metadata": {},
   "source": [
    "We can use the CDF to look up the percentile rank of a particular value.  For example, my second daughter was 10.2 pounds at birth, which is near the 99th percentile."
   ]
  },
  {
   "cell_type": "code",
   "execution_count": 27,
   "metadata": {},
   "outputs": [
    {
     "data": {
      "text/plain": [
       "98.82717415357381"
      ]
     },
     "execution_count": 27,
     "metadata": {},
     "output_type": "execute_result"
    }
   ],
   "source": [
    "live_cdf.PercentileRank(10.2)"
   ]
  },
  {
   "cell_type": "markdown",
   "metadata": {},
   "source": [
    "If we draw a random sample from the observed weights and map each weigh to its percentile rank."
   ]
  },
  {
   "cell_type": "code",
   "execution_count": 28,
   "metadata": {},
   "outputs": [],
   "source": [
    "sample = np.random.choice(weights, 100, replace=True)\n",
    "ranks = [live_cdf.PercentileRank(x) for x in sample]"
   ]
  },
  {
   "cell_type": "markdown",
   "metadata": {},
   "source": [
    "The resulting list of ranks should be approximately uniform from 0-1."
   ]
  },
  {
   "cell_type": "code",
   "execution_count": 29,
   "metadata": {},
   "outputs": [
    {
     "name": "stderr",
     "output_type": "stream",
     "text": [
      "No handles with labels found to put in legend.\n"
     ]
    },
    {
     "data": {
      "image/png": "[encoded data removed]",
      "text/plain": [
       "<Figure size 432x288 with 1 Axes>"
      ]
     },
     "metadata": {
      "needs_background": "light"
     },
     "output_type": "display_data"
    }
   ],
   "source": [
    "rank_cdf = thinkstats2.Cdf(ranks)\n",
    "thinkplot.Cdf(rank_cdf)\n",
    "thinkplot.Config(xlabel='Percentile rank', ylabel='CDF')"
   ]
  },
  {
   "cell_type": "markdown",
   "metadata": {},
   "source": [
    "That observation is the basis of `Cdf.Sample`, which generates a random sample from a Cdf.  Here's an example."
   ]
  },
  {
   "cell_type": "code",
   "execution_count": 30,
   "metadata": {},
   "outputs": [
    {
     "data": {
      "image/png": "[encoded data removed]",
      "text/plain": [
       "<Figure size 432x288 with 1 Axes>"
      ]
     },
     "metadata": {
      "needs_background": "light"
     },
     "output_type": "display_data"
    }
   ],
   "source": [
    "resample = live_cdf.Sample(1000)\n",
    "thinkplot.Cdf(live_cdf)\n",
    "thinkplot.Cdf(thinkstats2.Cdf(resample, label='resample'))\n",
    "thinkplot.Config(xlabel='Birth weight (pounds)', ylabel='CDF')"
   ]
  },
  {
   "cell_type": "markdown",
   "metadata": {},
   "source": [
    "This confirms that the random sample has the same distribution as the original data."
   ]
  },
  {
   "cell_type": "markdown",
   "metadata": {
    "collapsed": true
   },
   "source": [
    "## Exercises"
   ]
  },
  {
   "cell_type": "markdown",
   "metadata": {
    "collapsed": true
   },
   "source": [
    "**Exercise:** How much did you weigh at birth? If you don’t know, call your mother or someone else who knows. Using the NSFG data (all live births), compute the distribution of birth weights and use it to find your percentile rank. If you were a first baby, find your percentile rank in the distribution for first babies. Otherwise use the distribution for others. If you are in the 90th percentile or higher, call your mother back and apologize."
   ]
  },
  {
   "cell_type": "code",
   "execution_count": 39,
   "metadata": {},
   "outputs": [
    {
     "data": {
      "text/plain": [
       "66.10130644052258"
      ]
     },
     "execution_count": 39,
     "metadata": {},
     "output_type": "execute_result"
    }
   ],
   "source": [
    "# I don't know how much I weighed at birth, just picked a number\n",
    "first_cdf.PercentileRank(7.7)"
   ]
  },
  {
   "cell_type": "code",
   "execution_count": 40,
   "metadata": {},
   "outputs": [
    {
     "data": {
      "text/plain": [
       "60.62032085561497"
      ]
     },
     "execution_count": 40,
     "metadata": {},
     "output_type": "execute_result"
    }
   ],
   "source": [
    "# I was actually a second child\n",
    "other_cdf.PercentileRank(7.7)"
   ]
  },
  {
   "cell_type": "markdown",
   "metadata": {
    "collapsed": true
   },
   "source": [
    "**Exercise:** The numbers generated by `numpy.random.random` are supposed to be uniform between 0 and 1; that is, every value in the range should have the same probability.\n",
    "\n",
    "Generate 1000 numbers from `numpy.random.random` and plot their PMF.  What goes wrong?\n",
    "\n",
    "Now plot the CDF. Is the distribution uniform?"
   ]
  },
  {
   "cell_type": "code",
   "execution_count": 37,
   "metadata": {},
   "outputs": [
    {
     "data": {
      "text/plain": [
       "array([6.36915598e-01, 3.75128543e-01, 4.52897523e-01, 3.35183500e-01,\n",
       "       6.95194101e-01, 9.96811871e-01, 3.71347428e-01, 8.09767496e-01,\n",
       "       6.80764872e-01, 8.51103591e-01, 6.63060614e-01, 1.81350560e-03,\n",
       "       8.68422495e-01, 1.06006352e-01, 1.25920031e-01, 6.89904870e-01,\n",
       "       1.78858566e-01, 3.43127443e-01, 9.65057759e-01, 6.35278329e-01,\n",
       "       8.96356312e-01, 5.07812561e-01, 8.72836800e-01, 5.21390401e-01,\n",
       "       8.31679812e-01, 8.36283553e-01, 5.76421380e-02, 9.72732057e-01,\n",
       "       1.50400075e-01, 9.45481940e-02, 2.99916578e-01, 9.08809510e-02,\n",
       "       2.84180897e-01, 1.78311370e-01, 3.35400966e-01, 9.17011672e-01,\n",
       "       1.79498346e-01, 9.27849584e-01, 9.14727306e-01, 2.08052215e-01,\n",
       "       4.27106299e-01, 5.78818490e-01, 7.87738503e-01, 2.10990167e-01,\n",
       "       5.50282916e-01, 8.27345765e-01, 6.51740793e-01, 3.21447974e-01,\n",
       "       6.38259123e-01, 4.71926283e-01, 3.62733477e-01, 5.74384769e-01,\n",
       "       2.79220703e-01, 3.14110290e-01, 5.21649358e-01, 8.03474159e-03,\n",
       "       9.81453206e-01, 3.58915942e-01, 5.33832284e-01, 5.35607064e-01,\n",
       "       2.81986159e-01, 5.53335460e-02, 8.94795016e-01, 7.98226306e-01,\n",
       "       9.33244259e-01, 3.44076503e-01, 4.61729052e-01, 4.92934973e-01,\n",
       "       4.20622860e-01, 4.47603549e-02, 1.62822106e-01, 4.87631470e-01,\n",
       "       7.85282641e-01, 6.16088719e-01, 4.11326006e-01, 1.65374738e-01,\n",
       "       9.13918438e-01, 5.81363205e-01, 6.99378543e-01, 8.60473001e-01,\n",
       "       3.28684297e-01, 1.93816471e-01, 9.08006054e-01, 7.35539232e-01,\n",
       "       8.48284751e-01, 2.91541783e-01, 3.77219085e-02, 5.96956910e-01,\n",
       "       6.14897104e-01, 1.22750812e-01, 9.42852428e-02, 2.36370552e-01,\n",
       "       7.92237676e-01, 8.02850173e-01, 9.94384120e-01, 5.68570598e-01,\n",
       "       1.91513312e-01, 1.32477207e-01, 2.13508477e-01, 7.91456173e-01,\n",
       "       5.05160065e-01, 7.08601569e-01, 3.62739798e-01, 5.18173216e-01,\n",
       "       2.80845128e-01, 8.07061873e-01, 9.13874408e-02, 2.74861526e-01,\n",
       "       8.02357131e-01, 2.35085151e-02, 6.56954707e-01, 5.65776109e-01,\n",
       "       7.70568233e-01, 1.36681465e-01, 5.97326451e-01, 6.22365262e-01,\n",
       "       2.59501836e-01, 1.03409082e-01, 1.17869544e-01, 1.87584189e-01,\n",
       "       1.08588854e-01, 2.70987448e-01, 7.78076608e-01, 1.46498285e-01,\n",
       "       8.64481327e-01, 7.19504460e-01, 2.14616233e-01, 2.90366482e-01,\n",
       "       5.00979338e-01, 2.75265796e-01, 6.90375685e-02, 6.36958096e-01,\n",
       "       4.73154352e-01, 4.27736109e-01, 1.96414415e-01, 7.13617987e-01,\n",
       "       6.71431332e-01, 3.45617873e-01, 6.55283565e-01, 2.14358187e-01,\n",
       "       3.53960571e-03, 5.27391353e-02, 8.87046994e-01, 2.76708145e-01,\n",
       "       9.88551877e-01, 7.30818004e-01, 8.86661429e-01, 7.59424829e-01,\n",
       "       4.69832289e-01, 8.90523899e-01, 4.06933665e-01, 2.77215800e-01,\n",
       "       1.80014876e-01, 8.24012508e-01, 6.94578145e-01, 1.08864935e-01,\n",
       "       4.17317636e-01, 6.70161385e-01, 8.86125883e-01, 1.85944756e-01,\n",
       "       1.08805568e-02, 6.87477553e-02, 6.80465633e-01, 8.86405427e-01,\n",
       "       7.34917933e-02, 2.64748899e-01, 7.65404010e-01, 7.52315423e-02,\n",
       "       5.44041361e-01, 2.67891687e-01, 8.63798625e-01, 5.28355465e-02,\n",
       "       8.91271327e-01, 1.05974531e-01, 5.11792364e-02, 7.53450501e-01,\n",
       "       6.35601670e-01, 6.64031501e-01, 1.61740991e-02, 7.61461667e-01,\n",
       "       4.98554057e-01, 9.62805921e-01, 7.41343997e-01, 1.58648358e-01,\n",
       "       8.22989120e-01, 4.37735305e-01, 7.47545829e-01, 8.30547521e-03,\n",
       "       9.53292711e-01, 6.72560431e-01, 7.40595686e-01, 7.28357110e-01,\n",
       "       2.46262686e-01, 5.79813797e-01, 2.75872635e-01, 3.72521610e-01,\n",
       "       4.65101685e-01, 5.19426759e-01, 9.07742961e-01, 2.25409652e-01,\n",
       "       3.48389142e-01, 2.24780005e-01, 6.41052309e-01, 1.57174038e-01,\n",
       "       2.39163092e-01, 5.55747513e-01, 2.25753262e-01, 9.01208017e-01,\n",
       "       4.04205529e-01, 6.76050424e-01, 5.47268105e-01, 3.53769552e-01,\n",
       "       5.73674047e-01, 4.72097599e-01, 4.00519278e-03, 3.26284874e-01,\n",
       "       6.44203036e-01, 5.13990938e-01, 5.48356487e-01, 8.38191761e-01,\n",
       "       8.53778265e-01, 2.13664252e-01, 2.86956000e-01, 5.47899033e-01,\n",
       "       9.48849175e-02, 9.37533860e-01, 8.81071102e-01, 7.24128225e-01,\n",
       "       6.25739311e-01, 8.78076881e-01, 7.99528062e-01, 1.89436873e-01,\n",
       "       3.29010527e-01, 9.09625208e-01, 9.49735577e-01, 9.25180246e-01,\n",
       "       7.14937058e-01, 5.34232622e-01, 4.72476672e-02, 6.45107032e-01,\n",
       "       4.35897150e-01, 7.70141053e-01, 3.01454596e-01, 4.00148052e-01,\n",
       "       5.66867751e-01, 8.65636459e-01, 8.44490062e-01, 9.15456533e-01,\n",
       "       6.49329350e-02, 6.95385149e-01, 4.35740919e-01, 6.64901627e-01,\n",
       "       3.14783215e-01, 5.38948989e-01, 8.39646690e-02, 9.13086238e-02,\n",
       "       2.20450541e-02, 6.49161296e-01, 6.12661070e-01, 3.30854136e-01,\n",
       "       2.61725801e-01, 8.04768758e-02, 4.33335613e-01, 3.85533953e-01,\n",
       "       8.19340526e-01, 6.99610724e-01, 8.60824328e-01, 3.59946874e-01,\n",
       "       4.25818189e-01, 4.68654366e-01, 5.45061167e-02, 6.03866862e-01,\n",
       "       5.69180114e-01, 9.40880243e-02, 8.77812698e-01, 5.14358400e-01,\n",
       "       8.31108418e-01, 2.48559279e-01, 4.26779888e-01, 8.58893880e-01,\n",
       "       7.76764486e-01, 6.88309408e-01, 4.61996429e-02, 4.10162482e-01,\n",
       "       7.93525892e-02, 5.22742463e-01, 2.36330864e-01, 5.11549261e-01,\n",
       "       6.10934702e-01, 6.73219661e-01, 2.23133139e-01, 9.13584844e-01,\n",
       "       2.52792360e-01, 9.29874685e-01, 8.02786968e-01, 4.57656929e-01,\n",
       "       7.91075050e-01, 1.64372864e-01, 1.61285069e-02, 2.42496443e-01,\n",
       "       2.27608236e-01, 3.67625108e-01, 1.30089433e-01, 4.98983212e-02,\n",
       "       2.34799729e-01, 4.36359309e-01, 6.36301859e-01, 6.65619946e-03,\n",
       "       2.09928870e-01, 3.20640909e-02, 2.86194821e-01, 1.14892659e-01,\n",
       "       8.28817150e-01, 1.09907305e-02, 4.97633784e-01, 9.34137984e-01,\n",
       "       2.10493409e-01, 1.19318170e-03, 9.15271912e-01, 1.28242944e-02,\n",
       "       2.71650274e-01, 6.09447878e-01, 9.50084143e-01, 1.36022718e-01,\n",
       "       1.25488929e-01, 1.91909558e-01, 5.62108809e-01, 8.37308083e-01,\n",
       "       6.09554333e-01, 6.79593519e-01, 1.04648661e-01, 8.08651709e-04,\n",
       "       8.34649828e-01, 2.97207187e-01, 4.57081432e-01, 7.27597235e-01,\n",
       "       4.45494636e-01, 9.95040507e-01, 3.43928455e-02, 9.18131928e-01,\n",
       "       5.05723844e-02, 4.03857453e-01, 8.38395978e-01, 1.37572890e-01,\n",
       "       4.98971109e-01, 9.99468374e-01, 5.99770740e-01, 8.05861816e-02,\n",
       "       3.35763549e-01, 1.10064306e-01, 8.66945572e-01, 9.27563531e-02,\n",
       "       3.88905419e-01, 6.44976555e-01, 9.57783539e-01, 9.86584760e-01,\n",
       "       2.60398854e-01, 7.62841820e-01, 2.22205387e-01, 4.24307995e-01,\n",
       "       7.61713899e-01, 7.87644103e-01, 3.17885936e-01, 9.03620618e-02,\n",
       "       8.04117609e-01, 2.33092583e-01, 1.32866594e-01, 1.25729878e-01,\n",
       "       1.75014450e-01, 8.28502994e-01, 1.10153400e-01, 2.80235346e-01,\n",
       "       4.53589934e-01, 8.16803056e-01, 7.11621399e-01, 1.25267730e-01,\n",
       "       8.29887445e-01, 3.47981572e-01, 3.82694997e-01, 8.22282704e-01,\n",
       "       8.87597097e-01, 1.24783325e-01, 6.07292289e-01, 7.97180672e-01,\n",
       "       5.39961380e-01, 1.48571909e-03, 7.27075401e-01, 4.04478862e-02,\n",
       "       9.64974772e-01, 1.00901848e-01, 9.96057413e-01, 3.93438997e-01,\n",
       "       4.27814363e-01, 5.53177086e-01, 2.05971596e-01, 5.07202138e-01,\n",
       "       4.74959669e-03, 5.64599931e-01, 4.20145158e-01, 6.44758663e-01,\n",
       "       6.10350648e-01, 2.14805997e-01, 5.59892504e-01, 1.18129456e-01,\n",
       "       2.74579385e-01, 5.00569304e-01, 9.87309011e-01, 2.28870589e-01,\n",
       "       5.19047816e-01, 8.64205735e-01, 1.85909891e-01, 7.20563586e-01,\n",
       "       7.45818291e-01, 7.53241391e-01, 9.63498665e-01, 9.63324389e-01,\n",
       "       1.48485301e-01, 1.56509017e-01, 9.34524723e-01, 1.60464991e-01,\n",
       "       8.61867171e-01, 8.11694667e-01, 7.26062516e-01, 6.07029583e-01,\n",
       "       2.68193647e-01, 5.18497395e-01, 1.22452531e-01, 3.04634730e-02,\n",
       "       9.80285443e-01, 8.26047513e-01, 7.87423348e-01, 6.82037863e-01,\n",
       "       9.76637938e-01, 8.01241007e-02, 1.09575900e-01, 4.55711550e-01,\n",
       "       7.04626036e-01, 7.08856424e-01, 9.90192653e-01, 5.38838443e-01,\n",
       "       5.76931532e-01, 6.99461980e-01, 9.94191295e-01, 4.87371635e-01,\n",
       "       2.83463137e-01, 1.10760200e-01, 2.61407498e-01, 4.78206227e-01,\n",
       "       3.65733291e-01, 7.24218695e-01, 5.40406369e-01, 6.16958859e-01,\n",
       "       6.20992169e-01, 1.33222146e-01, 5.03203226e-01, 9.74507071e-01,\n",
       "       3.28904508e-01, 9.03689403e-01, 5.33840629e-01, 9.06080769e-01,\n",
       "       7.37748200e-01, 8.30637473e-02, 3.22252937e-02, 6.93862962e-01,\n",
       "       5.05901913e-01, 5.26497443e-02, 9.25706806e-01, 8.16752377e-01,\n",
       "       4.30194627e-01, 4.92412850e-02, 9.86639090e-01, 5.92057125e-01,\n",
       "       8.40029603e-01, 1.47525813e-01, 2.65107244e-01, 8.05363419e-01,\n",
       "       4.04100219e-02, 4.63379926e-01, 8.80021223e-01, 4.45318739e-01,\n",
       "       9.74078449e-01, 5.70904398e-01, 4.55642323e-01, 5.74557477e-01,\n",
       "       2.94194828e-01, 8.79400019e-01, 4.87941682e-01, 9.80104275e-01,\n",
       "       9.31173854e-01, 4.98860859e-02, 1.92314697e-01, 7.25029314e-01,\n",
       "       7.68072288e-01, 8.10220342e-01, 6.48306127e-01, 4.02510239e-01,\n",
       "       7.71112044e-01, 7.23129311e-01, 6.74735770e-01, 8.67724020e-01,\n",
       "       7.81800307e-01, 6.09334953e-01, 3.87735228e-01, 7.72666645e-01,\n",
       "       7.93030088e-01, 5.01250326e-01, 2.70920867e-01, 7.05549994e-01,\n",
       "       5.64769102e-01, 1.16622150e-01, 6.10233352e-02, 9.30643300e-01,\n",
       "       4.49434887e-01, 2.69330874e-01, 9.12614035e-01, 3.38229450e-01,\n",
       "       7.45828430e-01, 7.84363836e-01, 7.86615858e-01, 1.05716599e-01,\n",
       "       1.97039921e-01, 7.08638797e-01, 3.26167586e-01, 1.99647365e-02,\n",
       "       8.34147434e-01, 2.06739067e-01, 5.05589331e-01, 1.58498193e-01,\n",
       "       9.48603363e-01, 3.21507892e-01, 7.32360868e-01, 8.73128994e-01,\n",
       "       3.56283623e-01, 7.10884244e-01, 6.96034837e-01, 6.44110734e-01,\n",
       "       3.73717745e-01, 4.66968505e-01, 9.90972514e-01, 1.22650405e-01,\n",
       "       2.24085682e-01, 2.53110694e-01, 1.27235417e-01, 7.49593409e-01,\n",
       "       8.52547922e-01, 3.74289990e-01, 4.12565479e-01, 6.80872730e-01,\n",
       "       5.35512863e-01, 6.05341543e-01, 5.73292903e-01, 4.71547570e-01,\n",
       "       7.16508035e-02, 9.20332077e-02, 1.10800973e-01, 7.48808614e-01,\n",
       "       5.41231264e-01, 6.31614625e-01, 1.65891828e-01, 3.91861766e-01,\n",
       "       5.93228529e-01, 4.91744368e-02, 1.83483505e-01, 9.99833731e-02,\n",
       "       5.61950911e-01, 1.34962918e-01, 2.97077292e-01, 1.93774520e-01,\n",
       "       8.81818817e-01, 3.58348511e-01, 2.10959171e-02, 3.35932565e-01,\n",
       "       9.45463000e-01, 9.65526883e-01, 6.52528033e-01, 9.78100832e-01,\n",
       "       9.42963539e-01, 3.67481692e-01, 4.22400561e-01, 4.43418731e-01,\n",
       "       4.39137220e-01, 5.25632106e-02, 6.30298596e-01, 6.61150570e-01,\n",
       "       6.67003198e-01, 4.26535887e-01, 9.09070178e-01, 3.22468415e-01,\n",
       "       2.92904738e-01, 7.34960309e-01, 4.87444204e-01, 4.03934642e-01,\n",
       "       9.23280692e-01, 7.02652487e-01, 9.53264185e-01, 5.41024907e-01,\n",
       "       9.07570276e-01, 4.55218216e-01, 6.78848933e-01, 2.84379928e-01,\n",
       "       1.04302087e-01, 5.09635353e-01, 4.47375786e-01, 5.57688988e-01,\n",
       "       2.37104776e-01, 6.52938026e-02, 5.20369262e-01, 5.53853408e-01,\n",
       "       9.16141996e-01, 3.74010462e-01, 9.83543370e-01, 3.20668317e-01,\n",
       "       6.42102141e-01, 7.64188697e-01, 6.51334025e-01, 8.94472249e-01,\n",
       "       8.77626309e-01, 7.11121724e-01, 2.75389019e-01, 5.43116958e-01,\n",
       "       9.62918888e-01, 8.40496748e-01, 6.01547879e-01, 4.01392033e-01,\n",
       "       8.53748610e-01, 9.71512118e-02, 4.18304171e-01, 5.38759645e-01,\n",
       "       2.09576411e-01, 5.16743290e-02, 3.25318019e-01, 9.75732233e-01,\n",
       "       6.77078074e-01, 9.58611445e-01, 2.38127981e-01, 6.97017471e-01,\n",
       "       2.58521914e-01, 4.74622183e-01, 7.58566881e-01, 7.47479341e-01,\n",
       "       4.87306381e-01, 5.38669858e-01, 9.54136621e-01, 8.79771741e-01,\n",
       "       1.94494989e-01, 3.74788055e-02, 7.42885617e-02, 9.26863581e-01,\n",
       "       6.62269836e-01, 5.12262314e-01, 5.92498287e-01, 1.55569513e-01,\n",
       "       3.32475411e-01, 6.65071430e-02, 7.13477085e-02, 6.44726541e-02,\n",
       "       3.04016817e-01, 1.39798876e-01, 4.11310460e-01, 9.86779868e-01,\n",
       "       9.07239551e-02, 7.25569159e-01, 1.54571233e-01, 1.76274537e-01,\n",
       "       6.71906889e-01, 7.04223776e-01, 1.32158655e-01, 3.18701433e-01,\n",
       "       3.14154250e-01, 3.33990856e-01, 1.75898241e-01, 2.49159805e-01,\n",
       "       5.35193292e-01, 7.64242175e-01, 4.47087449e-01, 7.67425816e-01,\n",
       "       4.29704783e-01, 2.99384297e-02, 9.52208937e-01, 5.55220196e-01,\n",
       "       2.91655543e-01, 9.35145597e-01, 8.47456613e-01, 9.27406236e-02,\n",
       "       6.57959717e-02, 9.14017579e-01, 3.32315800e-01, 2.93056263e-01,\n",
       "       9.72653810e-01, 2.32354971e-02, 5.37813947e-01, 4.81972959e-01,\n",
       "       3.34804815e-02, 8.96334039e-01, 5.75373500e-01, 2.75713215e-01,\n",
       "       9.97815456e-01, 4.15560330e-01, 4.64970292e-01, 4.79376270e-02,\n",
       "       2.05597813e-01, 8.28196952e-01, 2.27647300e-01, 8.31066356e-01,\n",
       "       5.40611581e-01, 4.06444174e-01, 7.15111529e-01, 5.43417952e-01,\n",
       "       8.42892580e-01, 1.70324681e-01, 6.09083853e-01, 5.26383726e-01,\n",
       "       8.40769212e-02, 2.20884754e-01, 2.78881847e-01, 2.61097598e-01,\n",
       "       8.56758660e-03, 4.73514488e-01, 8.56227177e-01, 5.33796929e-01,\n",
       "       7.99683831e-01, 7.39738214e-01, 8.13010277e-01, 5.32074408e-01,\n",
       "       5.04344793e-01, 6.16494338e-01, 4.65781059e-01, 8.21198999e-01,\n",
       "       8.86311852e-01, 7.71239366e-01, 9.45327737e-01, 4.48218978e-01,\n",
       "       6.37047108e-01, 6.04907841e-01, 1.54090371e-01, 5.80997889e-01,\n",
       "       7.88180523e-01, 4.85267130e-01, 9.97553096e-01, 5.70959154e-01,\n",
       "       2.01443918e-01, 7.89187876e-01, 6.55829157e-02, 5.03224202e-01,\n",
       "       4.17556640e-01, 9.09967440e-01, 3.40650035e-01, 4.40323013e-01,\n",
       "       2.72844862e-01, 4.33081028e-01, 1.03570991e-01, 1.80950499e-01,\n",
       "       6.22432895e-01, 6.83385229e-01, 2.66970426e-01, 1.95044407e-01,\n",
       "       8.66790069e-01, 2.79116239e-01, 1.23831448e-01, 8.57103175e-02,\n",
       "       8.17787493e-01, 8.02381857e-01, 3.34404321e-01, 8.75918501e-01,\n",
       "       9.65843375e-01, 2.92068839e-01, 9.12148068e-02, 2.67018464e-01,\n",
       "       2.84213392e-01, 6.22564247e-02, 3.76443725e-01, 6.01958619e-01,\n",
       "       9.48007461e-01, 3.39914560e-03, 1.40028561e-02, 1.38521496e-01,\n",
       "       6.44191064e-01, 6.70442728e-01, 8.15086396e-01, 8.79036730e-01,\n",
       "       5.96853086e-02, 5.30644039e-01, 8.17724233e-01, 6.80709200e-01,\n",
       "       6.67590750e-01, 6.15382190e-01, 5.23978437e-01, 4.85914580e-01,\n",
       "       9.50244602e-01, 2.21491800e-01, 3.73787918e-01, 2.65382117e-02,\n",
       "       3.21893441e-01, 3.94781590e-01, 7.69171055e-02, 3.99031631e-02,\n",
       "       1.99870878e-01, 3.94154916e-01, 8.68320772e-01, 2.73823139e-01,\n",
       "       3.10131402e-01, 1.35350531e-01, 2.97556730e-01, 5.77614136e-01,\n",
       "       2.82225240e-02, 3.52817705e-01, 6.83331226e-01, 9.51899601e-02,\n",
       "       8.01351875e-01, 3.00310070e-03, 9.68181231e-01, 7.04301373e-01,\n",
       "       2.27518128e-02, 4.25499987e-01, 6.00755378e-01, 9.62199557e-02,\n",
       "       7.45806583e-01, 8.77890897e-01, 8.35681959e-01, 1.83346406e-01,\n",
       "       9.39633947e-01, 8.11670872e-01, 4.65848993e-01, 6.25042500e-01,\n",
       "       9.70902505e-01, 2.26435400e-01, 9.02944271e-01, 5.16850638e-01,\n",
       "       9.38335369e-01, 3.96858318e-01, 5.46712124e-01, 9.39582724e-02,\n",
       "       3.97589164e-01, 4.19109247e-01, 9.44679086e-01, 1.77816435e-01,\n",
       "       1.90409497e-01, 4.90292400e-01, 4.74301385e-01, 4.15651765e-01,\n",
       "       6.43721949e-01, 3.76880593e-02, 5.96501005e-02, 4.50842650e-01,\n",
       "       8.16779876e-01, 5.09555219e-01, 5.80474838e-01, 5.67085305e-01,\n",
       "       3.11572349e-01, 6.41859604e-01, 7.75322671e-01, 4.64388694e-01,\n",
       "       5.60759296e-01, 2.68227272e-01, 1.69775866e-01, 6.28913500e-01,\n",
       "       1.28194143e-01, 8.81786989e-01, 7.90019987e-01, 9.02753332e-02,\n",
       "       2.95401493e-01, 1.74261655e-01, 5.18823318e-01, 6.97765052e-02,\n",
       "       3.82318686e-01, 2.17149053e-01, 6.64150678e-01, 7.85337507e-01,\n",
       "       8.91025863e-01, 5.63571496e-01, 6.47646434e-01, 3.92314142e-01,\n",
       "       8.05312382e-01, 9.07921299e-01, 7.38743692e-01, 1.37093732e-01,\n",
       "       3.75648739e-02, 4.67024569e-01, 7.30668711e-01, 9.22542789e-01,\n",
       "       5.85319031e-01, 6.67735816e-01, 8.83320549e-01, 7.91467957e-01,\n",
       "       4.75053771e-01, 3.45127040e-01, 6.42087087e-01, 2.14259745e-01,\n",
       "       2.94462488e-01, 5.29269878e-01, 9.18460550e-01, 5.07664920e-03,\n",
       "       2.57266445e-02, 8.93417895e-01, 9.99607401e-01, 2.05620254e-01,\n",
       "       7.28783647e-01, 7.82541198e-01, 6.65195456e-01, 9.30219002e-01,\n",
       "       2.80573887e-01, 2.92725657e-01, 1.34196264e-01, 3.70642993e-01,\n",
       "       5.57372471e-01, 7.38183757e-01, 3.83523643e-01, 5.90211291e-01,\n",
       "       5.56304142e-01, 3.30914421e-01, 1.94719363e-01, 3.69747956e-01,\n",
       "       2.31669984e-01, 4.42886311e-01, 1.36986108e-02, 3.97016651e-01,\n",
       "       1.16055817e-01, 5.21528139e-03, 9.87098586e-01, 2.24807741e-02,\n",
       "       8.35516411e-01, 3.84501890e-01, 5.99911374e-01, 4.09722516e-01,\n",
       "       3.10773338e-01, 6.39036859e-02, 6.94748982e-01, 2.47076984e-01,\n",
       "       2.67902467e-01, 5.80261797e-01, 1.28995676e-02, 5.62740039e-01,\n",
       "       4.29430842e-01, 4.07455081e-01, 4.48755620e-01, 5.47711312e-01,\n",
       "       1.21035838e-01, 5.39476278e-01, 4.04163646e-01, 1.68677469e-01,\n",
       "       5.69641342e-01, 9.44656328e-01, 7.27251537e-01, 8.21149840e-01,\n",
       "       1.98952476e-01, 6.81709532e-01, 1.58115578e-03, 1.60388435e-01,\n",
       "       6.32764354e-01, 8.75216261e-01, 6.62578306e-01, 2.04996381e-01,\n",
       "       3.88437063e-01, 6.39190390e-02, 2.12281454e-01, 3.99499727e-01,\n",
       "       3.54456877e-01, 2.38995385e-01, 8.29116024e-01, 7.43533874e-01,\n",
       "       2.86170661e-02, 1.74038994e-01, 4.44466348e-01, 2.22881736e-01,\n",
       "       8.40673191e-01, 7.24478720e-01, 8.73185677e-01, 7.84578139e-01,\n",
       "       9.77371067e-01, 3.84428240e-01, 4.03124570e-01, 7.80097495e-01,\n",
       "       4.64875555e-01, 8.71676103e-01, 8.55026901e-01, 3.93298044e-01,\n",
       "       3.50641845e-01, 5.01630388e-01, 6.27209848e-01, 1.92888619e-01,\n",
       "       6.73601821e-01, 6.85829766e-01, 8.96888929e-01, 2.36372319e-01,\n",
       "       4.58342289e-01, 8.49516660e-01, 3.75845234e-01, 9.54348163e-01,\n",
       "       1.38541130e-02, 5.96504973e-01, 1.61910462e-01, 5.66684024e-01,\n",
       "       6.22144352e-01, 4.62335235e-01, 7.63115834e-01, 7.38060438e-01,\n",
       "       3.22334596e-01, 6.16647597e-01, 1.00321721e-01, 4.99250308e-01])"
      ]
     },
     "execution_count": 37,
     "metadata": {},
     "output_type": "execute_result"
    }
   ],
   "source": [
    "random_numbers = np.random.random(1000)\n",
    "random_numbers"
   ]
  },
  {
   "cell_type": "code",
   "execution_count": 43,
   "metadata": {},
   "outputs": [
    {
     "name": "stderr",
     "output_type": "stream",
     "text": [
      "No handles with labels found to put in legend.\n"
     ]
    },
    {
     "data": {
      "image/png": "[encoded data removed]",
      "text/plain": [
       "<Figure size 432x288 with 1 Axes>"
      ]
     },
     "metadata": {
      "needs_background": "light"
     },
     "output_type": "display_data"
    }
   ],
   "source": [
    "# plot PMF\n",
    "thinkplot.Pmf(thinkstats2.Pmf(random_numbers),linewidth=0.1)\n",
    "thinkplot.Config(xlabel='Weight (pounds)', ylabel='PMF')"
   ]
  },
  {
   "cell_type": "code",
   "execution_count": 38,
   "metadata": {},
   "outputs": [
    {
     "data": {
      "image/png": "[encoded data removed]",
      "text/plain": [
       "<Figure size 432x288 with 1 Axes>"
      ]
     },
     "metadata": {
      "needs_background": "light"
     },
     "output_type": "display_data"
    }
   ],
   "source": [
    "thinkplot.Cdf(thinkstats2.Cdf(random_numbers, label='randomly generated numbers'))\n",
    "thinkplot.Config(xlabel='Birth weight (pounds)', ylabel='CDF')"
   ]
  },
  {
   "cell_type": "markdown",
   "metadata": {},
   "source": [
    "**My answer:**\n",
    "\n",
    "Yes, both the PMF and CDF show that randomly generated numbers do indeed have an even distribution. \n",
    "\n",
    "However, this seems completely unrelated to birth weight. It looks like all of the randomy generated values are between 0 and 1 while that does not make any sense for birth weight. \n",
    "\n",
    "Perhaps a better way of looking at this would be to randomly generate values between the min and max birth weight and compare that distribution (should be even) to the observed distribution.\n"
   ]
  },
  {
   "cell_type": "code",
   "execution_count": null,
   "metadata": {},
   "outputs": [],
   "source": []
  },
  {
   "cell_type": "code",
   "execution_count": null,
   "metadata": {},
   "outputs": [],
   "source": []
  }
 ],
 "metadata": {
  "kernelspec": {
   "display_name": "Python 3",
   "language": "python",
   "name": "python3"
  },
  "language_info": {
   "codemirror_mode": {
    "name": "ipython",
    "version": 3
   },
   "file_extension": ".py",
   "mimetype": "text/x-python",
   "name": "python",
   "nbconvert_exporter": "python",
   "pygments_lexer": "ipython3",
   "version": "3.7.1"
  }
 },
 "nbformat": 4,
 "nbformat_minor": 1
}
